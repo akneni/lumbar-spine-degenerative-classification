{
 "cells": [
  {
   "cell_type": "code",
   "execution_count": 2,
   "metadata": {},
   "outputs": [],
   "source": [
    "import torch\n",
    "from torch import nn\n",
    "import numpy as np\n",
    "import shelve\n",
    "import random\n",
    "import cv2 as cv\n",
    "import matplotlib.pyplot as plt\n",
    "\n",
    "import importlib\n",
    "import model_1\n",
    "_ = importlib.reload(model_1)"
   ]
  },
  {
   "cell_type": "code",
   "execution_count": 30,
   "metadata": {},
   "outputs": [
    {
     "data": {
      "text/plain": [
       "tensor([[[0.2890, 0.8897, 0.8048, 0.5868, 0.3996, 0.3997],\n",
       "         [0.2568, 0.8782, 0.3600, 0.3460, 0.0029, 0.7690],\n",
       "         [0.8924, 0.1666, 0.0201, 0.2094, 0.7485, 0.0511],\n",
       "         [0.0395, 0.1266, 0.9283, 0.8501, 0.7561, 0.1529],\n",
       "         [0.1410, 0.1110, 0.4384, 0.6895, 0.3361, 0.1715],\n",
       "         [0.3925, 0.4220, 0.2344, 0.8568, 0.2726, 0.5753],\n",
       "         [0.0437, 0.7754, 0.9689, 0.4972, 0.5142, 0.8506],\n",
       "         [0.8420, 0.1593, 0.4946, 0.2476, 0.6393, 0.6141],\n",
       "         [0.2206, 0.3731, 0.8125, 0.2994, 0.8972, 0.7656],\n",
       "         [0.2966, 0.2963, 0.8758, 0.0231, 0.8198, 0.7869]],\n",
       "\n",
       "        [[0.0688, 0.9528, 0.4170, 0.2471, 0.3415, 0.1009],\n",
       "         [0.5691, 0.2903, 0.5712, 0.5178, 0.7253, 0.0425],\n",
       "         [0.0366, 0.5690, 0.4381, 0.5934, 0.0918, 0.3274],\n",
       "         [0.4807, 0.1589, 0.5327, 0.1504, 0.8515, 0.9499],\n",
       "         [0.7056, 0.6887, 0.7543, 0.3905, 0.7063, 0.5772],\n",
       "         [0.6154, 0.6385, 0.7213, 0.8312, 0.6104, 0.2234],\n",
       "         [0.9353, 0.1009, 0.9604, 0.0172, 0.3591, 0.0059],\n",
       "         [0.0502, 0.0193, 0.1933, 0.3439, 0.0404, 0.3071],\n",
       "         [0.9375, 0.6034, 0.7421, 0.3160, 0.0971, 0.5545],\n",
       "         [0.8214, 0.9207, 0.0364, 0.8710, 0.6817, 0.5103]]])"
      ]
     },
     "execution_count": 30,
     "metadata": {},
     "output_type": "execute_result"
    }
   ],
   "source": [
    "x = torch.rand((10, 6))\n",
    "y = torch.rand((10, 6))\n",
    "\n",
    "r = nn.utils.rnn.pad_sequence([x, y], batch_first=True)\n",
    "r"
   ]
  },
  {
   "cell_type": "code",
   "execution_count": 31,
   "metadata": {},
   "outputs": [
    {
     "data": {
      "text/plain": [
       "torch.Size([2, 10, 6])"
      ]
     },
     "execution_count": 31,
     "metadata": {},
     "output_type": "execute_result"
    }
   ],
   "source": [
    "r.size()\n"
   ]
  }
 ],
 "metadata": {
  "kernelspec": {
   "display_name": "py3.11",
   "language": "python",
   "name": "python3"
  },
  "language_info": {
   "codemirror_mode": {
    "name": "ipython",
    "version": 3
   },
   "file_extension": ".py",
   "mimetype": "text/x-python",
   "name": "python",
   "nbconvert_exporter": "python",
   "pygments_lexer": "ipython3",
   "version": "3.11.9"
  }
 },
 "nbformat": 4,
 "nbformat_minor": 2
}
